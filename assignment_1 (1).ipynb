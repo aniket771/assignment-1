{
 "cells": [
  {
   "cell_type": "code",
   "execution_count": null,
   "id": "6bdce6dc-827b-45f5-aa92-8d7178208d33",
   "metadata": {},
   "outputs": [],
   "source": [
    "#assignment 1"
   ]
  },
  {
   "cell_type": "code",
   "execution_count": 8,
   "id": "2264f8a2-21f8-44ed-a395-40d39cbcca32",
   "metadata": {},
   "outputs": [
    {
     "name": "stdout",
     "output_type": "stream",
     "text": [
      "55\n"
     ]
    }
   ],
   "source": [
    "#Question 1=converting integer to a floating point option\n",
    "x=55\n",
    "print(x)\n",
    "\n"
   ]
  },
  {
   "cell_type": "code",
   "execution_count": 9,
   "id": "6cf31a60-24ed-4a9c-a35a-7af25d2117c9",
   "metadata": {},
   "outputs": [
    {
     "data": {
      "text/plain": [
       "55.0"
      ]
     },
     "execution_count": 9,
     "metadata": {},
     "output_type": "execute_result"
    }
   ],
   "source": [
    "float(x)\n"
   ]
  },
  {
   "cell_type": "code",
   "execution_count": 10,
   "id": "52376674-54ac-4c5e-a389-cd3afd8fe16b",
   "metadata": {},
   "outputs": [],
   "source": [
    "#question 2=converting float to a integer\n",
    "y=7.7\n",
    "val=int(y)"
   ]
  },
  {
   "cell_type": "code",
   "execution_count": 13,
   "id": "295f4567-355a-4469-adb6-ec9c4082ee64",
   "metadata": {},
   "outputs": [
    {
     "name": "stdout",
     "output_type": "stream",
     "text": [
      "7\n"
     ]
    }
   ],
   "source": [
    "print(val)"
   ]
  },
  {
   "cell_type": "code",
   "execution_count": null,
   "id": "13200f88-0f31-4588-87b9-5c24682eedc0",
   "metadata": {},
   "outputs": [],
   "source": [
    "#Question 3 =convert a integer to a string"
   ]
  },
  {
   "cell_type": "code",
   "execution_count": 14,
   "id": "8f4cc0d3-246e-4f7b-9218-e1e7f94e1bbc",
   "metadata": {},
   "outputs": [],
   "source": [
    "integer_val=5\n"
   ]
  },
  {
   "cell_type": "code",
   "execution_count": 15,
   "id": "b180b468-722e-4ff3-be78-333ef045882f",
   "metadata": {},
   "outputs": [
    {
     "name": "stdout",
     "output_type": "stream",
     "text": [
      "5\n"
     ]
    }
   ],
   "source": [
    "string_val=str(integer_val)\n",
    "\n",
    "print(string_val)"
   ]
  },
  {
   "cell_type": "code",
   "execution_count": 18,
   "id": "9f0d6c2d-397b-42ec-90c8-46a186a643ff",
   "metadata": {},
   "outputs": [
    {
     "data": {
      "text/plain": [
       "str"
      ]
     },
     "execution_count": 18,
     "metadata": {},
     "output_type": "execute_result"
    }
   ],
   "source": [
    "type(string_val)"
   ]
  },
  {
   "cell_type": "code",
   "execution_count": 24,
   "id": "94e709ed-37a7-4fc6-a223-08fbd18f1fd4",
   "metadata": {},
   "outputs": [
    {
     "name": "stdout",
     "output_type": "stream",
     "text": [
      "[1, 2, 3, 'aniket', 'india']\n"
     ]
    }
   ],
   "source": [
    "#Question 4=convert a list to a tuple\n",
    "my_list=[1,2,3,\"aniket\",\"india\"]\n",
    "print(my_list)"
   ]
  },
  {
   "cell_type": "code",
   "execution_count": 25,
   "id": "26fe7b7a-278b-4c18-ac9d-bfdc2ec5a5a4",
   "metadata": {},
   "outputs": [
    {
     "name": "stdout",
     "output_type": "stream",
     "text": [
      "(1, 2, 3, 'aniket', 'india')\n"
     ]
    }
   ],
   "source": [
    "my_tuple=tuple(my_list)\n",
    "print(my_tuple)"
   ]
  },
  {
   "cell_type": "code",
   "execution_count": 26,
   "id": "5c9daf89-075a-4f04-9294-ca61dccf27b3",
   "metadata": {},
   "outputs": [
    {
     "data": {
      "text/plain": [
       "tuple"
      ]
     },
     "execution_count": 26,
     "metadata": {},
     "output_type": "execute_result"
    }
   ],
   "source": [
    "type(my_tuple)"
   ]
  },
  {
   "cell_type": "code",
   "execution_count": 27,
   "id": "265f0183-3513-4521-ae64-10cb966fb252",
   "metadata": {},
   "outputs": [
    {
     "name": "stdout",
     "output_type": "stream",
     "text": [
      "(2, 3, 4, 5, 5)\n"
     ]
    }
   ],
   "source": [
    "#Question 5= convert a tupe to a list\n",
    "my_tuple2=(2,3,4,5,5)\n",
    "print(my_tuple2)"
   ]
  },
  {
   "cell_type": "code",
   "execution_count": 29,
   "id": "8e7db758-421e-40e0-b39e-0f51e67687ca",
   "metadata": {},
   "outputs": [
    {
     "name": "stdout",
     "output_type": "stream",
     "text": [
      "list[2, 3, 4, 5, 5]\n"
     ]
    }
   ],
   "source": [
    "my_list2=list[my_tuple2]\n",
    "print(my_list2)"
   ]
  },
  {
   "cell_type": "code",
   "execution_count": 33,
   "id": "31ca597c-f5a0-43c3-b4d8-8bb2d15d4cc2",
   "metadata": {},
   "outputs": [
    {
     "data": {
      "text/plain": [
       "list"
      ]
     },
     "execution_count": 33,
     "metadata": {},
     "output_type": "execute_result"
    }
   ],
   "source": [
    "type(my_list)"
   ]
  },
  {
   "cell_type": "code",
   "execution_count": null,
   "id": "9c340ec2-a0e1-46dc-a85f-a7c1e34f701c",
   "metadata": {},
   "outputs": [],
   "source": [
    "#question 6=convert a decimal number to bimary"
   ]
  },
  {
   "cell_type": "code",
   "execution_count": 36,
   "id": "8aae414f-11b5-4752-b4d7-be7a0d64384f",
   "metadata": {},
   "outputs": [
    {
     "name": "stdout",
     "output_type": "stream",
     "text": [
      "0b1\n"
     ]
    }
   ],
   "source": [
    "decimal_no=1\n",
    "binary_no=bin(decimal_no)\n",
    "print(binary_no)"
   ]
  },
  {
   "cell_type": "code",
   "execution_count": null,
   "id": "e7d45722-07bd-438f-b1b5-b3fae420deb1",
   "metadata": {},
   "outputs": [],
   "source": [
    "#Question 7=  convert a non zero number to boolean\n"
   ]
  },
  {
   "cell_type": "code",
   "execution_count": 1,
   "id": "4ecdf3d6-cab6-4717-858b-f4dd1495ea82",
   "metadata": {},
   "outputs": [
    {
     "name": "stdout",
     "output_type": "stream",
     "text": [
      "True\n"
     ]
    }
   ],
   "source": [
    "number =32\n",
    "boolean_val = bool(42)\n",
    "print(boolean_val)"
   ]
  },
  {
   "cell_type": "code",
   "execution_count": null,
   "id": "3efa0275-9c71-4621-b8d8-654b35cc25a6",
   "metadata": {},
   "outputs": [],
   "source": []
  }
 ],
 "metadata": {
  "kernelspec": {
   "display_name": "Python 3 (ipykernel)",
   "language": "python",
   "name": "python3"
  },
  "language_info": {
   "codemirror_mode": {
    "name": "ipython",
    "version": 3
   },
   "file_extension": ".py",
   "mimetype": "text/x-python",
   "name": "python",
   "nbconvert_exporter": "python",
   "pygments_lexer": "ipython3",
   "version": "3.10.8"
  }
 },
 "nbformat": 4,
 "nbformat_minor": 5
}
